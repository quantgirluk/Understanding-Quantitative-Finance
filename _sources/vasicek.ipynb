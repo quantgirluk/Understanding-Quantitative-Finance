{
 "cells": [
  {
   "attachments": {},
   "cell_type": "markdown",
   "metadata": {
    "jp-MarkdownHeadingCollapsed": true,
    "tags": []
   },
   "source": [
    "#  Vasicek Model/Process\n",
    "\n",
    "The purpose of this notebook is to provide an illustration of the [Vasicek Model/Processs](https://en.wikipedia.org/wiki/Vasicek_model) and some of its main properties. \n",
    "\n",
    "![image](_static/vasicek.png)"
   ]
  },
  {
   "attachments": {},
   "cell_type": "markdown",
   "metadata": {},
   "source": [
    "## Definition\n",
    "\n",
    "The Vasicek model specifies that the instantaneous interest rate is defined by a stochastic process which can be defined by the following Stochastic Differential Equation (SDE)\n",
    "\n",
    "\n",
    "\\begin{equation}\n",
    "dX_t = \\theta (\\mu - X_t) dt + \\sigma dW_t, \\quad t >0,\n",
    "\\tag{1}\n",
    "\\end{equation}\n",
    "\n",
    "\n",
    "with initial condition  $X_0 =x_0\\in\\mathbb{R}$, and where $W_t$ is a standard Brownian motion, and the three parameters are constants:\n",
    "\n",
    "- $\\theta>0$ : speed or mean reversion coefficient \n",
    "- $\\mu \\in \\mathbb{R}$ : long term mean\n",
    "- $\\sigma>0$ : volatility\n",
    "\n",
    "\n",
    "\n",
    "In order to find the solution to this SDE, let us set the function $f(t,x) = x e^{\\theta t}$. Then, Ito's formula implies\n",
    "\n",
    "\n",
    "\\begin{align*}\n",
    "X_te^{\\theta t} &= x_0 +\\int_0^t X_s \\theta e^{\\theta s}ds + \\int_0^t e^{\\theta s}dX_s \\\\\n",
    "& = x_0 + \\int_0^t \\left[ \\theta X_s  e^{\\theta s}  +\\theta e^{\\theta s}(\\mu - X_s)\\right] ds + \\int_0^t e^{\\theta s}\\sigma dW_s\\\\\n",
    "& = x_0 + \\int_0^t \\left[ \\theta e^{\\theta s}\\mu\\right] ds + \\int_0^t e^{\\theta s}\\sigma dW_s\\\\\n",
    "& = x_0 + \\mu(e^{\\theta t} - 1) + \\int_0^t e^{\\theta s}\\sigma dW_s.\n",
    "\\end{align*}\n",
    "\n",
    "\n",
    "Thus\n",
    "\n",
    "\\begin{equation}\n",
    "X_t = x_0e^{-\\theta t} +  \\mu(1- e^{-\\theta t})  + \\sigma \\int_0^t e^{-\\theta (t-s)}dW_s.\n",
    "\\tag{2}\n",
    "\\end{equation}\n",
    "\n",
    "\n"
   ]
  },
  {
   "cell_type": "markdown",
   "metadata": {},
   "source": [
    "```{note}\n",
    "📝 The last expression implies that the process can take positive and negative values.\n",
    "```"
   ]
  },
  {
   "cell_type": "markdown",
   "metadata": {},
   "source": [
    "## Marginal Distributions\n",
    "\n",
    "Equation (2) implies that for each $t>0$, the variable $X_t$ follows a normal distribution –since it can be expressed as the sum of a deterministic part and the integral of a deterministic function with respect to the Brownian motion.\n",
    "\n",
    "\n",
    "Moreover, using the properties of the Brownian Motion we can obtain the following expressions for its expectation and variance\n",
    "\n",
    "\n",
    "\n",
    "\\begin{equation*}\n",
    "\\mathbf{E} [X_t ] = x_0e^{-\\theta t} +  \\mu(1- e^{-\\theta t}),,\n",
    "\\end{equation*}\n",
    "and\n",
    "\\begin{equation*}\n",
    "\\mathbf{Var} [X_t ] = \\frac{\\sigma^2}{ 2\\theta} (1- e^{-2\\theta t}).\n",
    "\\end{equation*}\n",
    "\n",
    "That is,\n",
    "\\begin{equation*}\n",
    "X_t \\sim \\mathcal{N}\\left(x_0e^{-\\theta t} +  \\mu(1- e^{-\\theta t}),  \\frac{\\sigma}{ \\sqrt{2\\theta}}  \\sqrt{ (1- e^{-2\\theta t})} \\right).\n",
    "\\end{equation*}\n",
    "\n"
   ]
  },
  {
   "cell_type": "markdown",
   "metadata": {},
   "source": [
    "### Expectation and Variance\n",
    "\n",
    "\\begin{equation*}\n",
    "\\mathbf{E} [X_t ] = x_0e^{-\\theta t} +  \\mu(1- e^{-\\theta t}),,\n",
    "\\end{equation*}\n",
    "and\n",
    "\\begin{equation*}\n",
    "\\mathbf{Var} [X_t ] = \\frac{\\sigma^2}{ 2\\theta} (1- e^{-2\\theta t}).\n",
    "\\end{equation*}"
   ]
  },
  {
   "cell_type": "markdown",
   "metadata": {},
   "source": [
    "To calculate the expectation of $X_t$ wi simply use the linearity of the expectation and the fact that the Ito integral in expression (2) is a martingale. Similarly, for the variance we only use properties of the variance and the isometry property of the Ito integral.\n"
   ]
  },
  {
   "cell_type": "markdown",
   "metadata": {},
   "source": [
    "### Covariance \n",
    "\n",
    "In addition, we can verify that\n",
    "\n",
    "$$Cov(X_t, X_s ) = \\frac{\\sigma^2 }{ 2\\theta}e^{-\\theta (t+s)} (e^{2\\theta \\min\\{t,s\\}}-1).$$"
   ]
  },
  {
   "cell_type": "markdown",
   "metadata": {},
   "source": [
    "So, for given $x_0, \\theta>0, \\mu, \\sigma>0$ and $t,s>0$ we can use the above formulas."
   ]
  },
  {
   "cell_type": "code",
   "execution_count": null,
   "metadata": {},
   "outputs": [],
   "source": [
    "import numpy as np\n",
    "\n",
    "x0 = 2.0\n",
    "theta = 1.0\n",
    "mu = 3.0\n",
    "sigma = 0.5\n",
    "t= 10\n",
    "s = 5\n",
    "\n",
    "\n",
    "exp = x0*np.exp(-1.0*theta*t) +  mu*(1.0 - np.exp(-1.0*theta*t))\n",
    "var = sigma**2/(2.0*theta)*(1 - np.exp(-2.0*theta*t)) \n",
    "cov = sigma**2/(2.0*theta)*np.exp(-1.0*(t+s))*(np.exp(2.0*theta*(np.min([t,s]))) - 1.0) \n",
    "\n",
    "print(f'For x_0={x0}' , f'theta={theta}',f'mu={mu}', f'sigma=.{sigma}', f't={t}', f's={s}', sep=\", \")\n",
    "print(f'E[X_t]= {exp: .6f}')\n",
    "print(f'Var[X_t]={var :.2f}')\n",
    "print(f'Cov[X_t, X_s]={cov :.6f}')"
   ]
  },
  {
   "cell_type": "markdown",
   "metadata": {},
   "source": [
    "### Marginal Distributions in Python\n",
    "\n",
    "Knowing the distribution –with its corresponding parameters– of the marginal distributions allows us to reproduce them with `Python`. \n",
    "\n",
    "One way to do this is by using the object  `norm`  from the library `scipy.stats`.  The next cell shows how to create $X_1$ using this method."
   ]
  },
  {
   "cell_type": "code",
   "execution_count": null,
   "metadata": {},
   "outputs": [],
   "source": [
    "from scipy.stats import norm\n",
    "import numpy as np \n",
    "\n",
    "\n",
    "x0 = 2.0 \n",
    "theta = 1.0\n",
    "mu = 3.0\n",
    "sigma = 0.5\n",
    "t =1.0 \n",
    "\n",
    "X_1 = norm(loc=(x0*np.exp(-1.0*theta*t)  + mu*(1.0 - np.exp(-1.0*theta*t))), \n",
    "           scale= np.sqrt( (sigma**2/(2.0*theta)*(1 - np.exp(-2.0*theta*t)) )) )\n",
    "\n",
    "# Now we can calculate the mean and the variance of X_1\n",
    "print(X_1.mean()) \n",
    "print(X_1.var())"
   ]
  },
  {
   "cell_type": "markdown",
   "metadata": {},
   "source": [
    "Another way to do this is by creating an object  `Vasicek` from `aleatory.processes` and calling the method `get_marginal` on it. The next cell shows how to create the marginal $X_1$ using this method."
   ]
  },
  {
   "cell_type": "code",
   "execution_count": null,
   "metadata": {},
   "outputs": [],
   "source": [
    "from aleatory.processes import Vasicek\n",
    "\n",
    "x0 = 2.0 \n",
    "theta = 1.0\n",
    "mu = 3.0\n",
    "sigma = 0.5\n",
    "t =1.0 \n",
    "\n",
    "process = Vasicek(theta=theta, mu=mu, sigma=sigma, initial=x0)\n",
    "X_1 = process.get_marginal(t=1)\n",
    "print(X_1.mean())\n",
    "print(X_1.var())"
   ]
  },
  {
   "cell_type": "markdown",
   "metadata": {},
   "source": [
    "Hereafter, we will use the latter method to create marginal distributions from the Vacisek process."
   ]
  },
  {
   "cell_type": "markdown",
   "metadata": {},
   "source": [
    "### Probability Density Functions\n",
    "\n",
    "The probability density function (pdf) of the marginal distribution $X_t$ is given by the following expression\n",
    "\\begin{equation*}\n",
    "f(x, t; \\theta,  \\mu, \\sigma) = \\dfrac{1}{ \\frac{\\sigma}{ \\sqrt{2\\theta}}  \\sqrt{ (1- e^{-2\\theta t})} \\sqrt{2 \\pi }}\\exp\\left\\{ -\\dfrac{1}{2} \\left(\\dfrac{x- [x_0e^{-\\theta t} +  \\mu(1- e^{-\\theta t})] }{ \\frac{\\sigma}{ \\sqrt{2\\theta}}  \\sqrt{ (1- e^{-2\\theta t})}}\\right)^2  \\right\\}, \\qquad \\forall x\\in\\mathbb{R}, t>0.\n",
    "\\end{equation*}"
   ]
  },
  {
   "cell_type": "markdown",
   "metadata": {},
   "source": [
    "Let's take a look at the density function of $X_1$ for different values of $\\theta$, $\\mu$, and $\\sigma$."
   ]
  },
  {
   "cell_type": "code",
   "execution_count": null,
   "metadata": {},
   "outputs": [],
   "source": [
    "import matplotlib.pyplot as plt"
   ]
  },
  {
   "cell_type": "code",
   "execution_count": null,
   "metadata": {
    "tags": [
     "hide-input"
    ]
   },
   "outputs": [],
   "source": [
    "plt.style.use(\"seaborn-v0_8-whitegrid\")\n",
    "plt.rcParams[\"figure.figsize\"] = (12, 6)\n",
    "%config InlineBackend.figure_format ='retina'"
   ]
  },
  {
   "cell_type": "code",
   "execution_count": null,
   "metadata": {},
   "outputs": [],
   "source": [
    "process = Vasicek(theta=1.0, mu=1.0, sigma=0.5, initial=1.0)\n",
    "X_1 = process.get_marginal(t=1)\n",
    "x = np.linspace(0, X_1.ppf(0.999), 100)\n",
    "plt.plot(x, X_1.pdf(x), '-', lw=1.5, alpha=0.75, label=f'$t$={1:.2f}')\n",
    "plt.title(f'$X_1$ pdf')\n",
    "plt.show()"
   ]
  },
  {
   "cell_type": "code",
   "execution_count": null,
   "metadata": {},
   "outputs": [],
   "source": [
    "fig, axs = plt.subplots(1, 3, figsize=(18, 6))\n",
    "theta_values = ( [0.1, 0.2, 0.3], [1, 2, 3], [10, 20, 30])\n",
    "for (thetas, ax) in zip(theta_values, axs):\n",
    "    for theta in thetas:\n",
    "        process = Vasicek(theta=theta, mu=10.0, sigma=0.5, initial=1.0)\n",
    "        X_t = process.get_marginal(t=1.0)\n",
    "        x = np.linspace(0, X_t.ppf(0.999), 100)\n",
    "        ax.plot(x, X_t.pdf(x), '-', lw=1.5,\n",
    "                alpha=0.75, label=f'$\\\\theta$={theta:.2f}')\n",
    "        ax.legend()\n",
    "fig.suptitle(r'$X_1$ pdf from a Vasicek process with $\\mu = 10.0, \\sigma=0.5$ and $x_0$=1.0')\n",
    "plt.show()"
   ]
  },
  {
   "cell_type": "code",
   "execution_count": null,
   "metadata": {
    "tags": [
     "hide-input"
    ]
   },
   "outputs": [],
   "source": [
    "fig, axs = plt.subplots(1, 3, figsize=(18, 6))\n",
    "mu_values = ([ -1, -2, -3], [0], [1, 2, 3])\n",
    "for (mus, ax) in zip(mu_values, axs):\n",
    "    for mu in mus:\n",
    "        process = Vasicek(theta=1.0, mu=mu, sigma=0.5, initial=1.0)\n",
    "        X_t = process.get_marginal(t=1.0)\n",
    "        x = np.linspace(X_t.ppf(0.001), X_t.ppf(0.999), 100)\n",
    "        ax.plot(x, X_t.pdf(x), '-', lw=1.5,\n",
    "                alpha=0.75, label=f'$\\mu$={mu:.2f}')\n",
    "        ax.legend()\n",
    "fig.suptitle(r'$X_1$ pdf from a Vasicek process with $\\theta = 1.0, \\sigma=0.5$ and $x_0$=1.0')\n",
    "plt.show()\n"
   ]
  },
  {
   "cell_type": "code",
   "execution_count": null,
   "metadata": {
    "tags": [
     "hide-input"
    ]
   },
   "outputs": [],
   "source": [
    "fig, axs = plt.subplots(1, 3, figsize=(18, 6))\n",
    "sigma_values = ([0.01, 0.02, 0.05], [0.1, 0.2,  0.5], [1, 2, 3])\n",
    "for (sigmas, ax) in zip(sigma_values, axs):\n",
    "    for sigma in sigmas:\n",
    "        process = Vasicek(theta=1.0, mu=10.0, sigma=sigma, initial=1.0)\n",
    "        X_t = process.get_marginal(t=1.0)\n",
    "        x = np.linspace(X_t.ppf(0.001), X_t.ppf(0.999), 100)\n",
    "        ax.plot(x, X_t.pdf(x), '-', lw=1.5,\n",
    "                alpha=0.75, label=f'$\\sigma$={sigma:.2f}')\n",
    "        ax.legend()\n",
    "fig.suptitle(r'$X_1$ pdf from a Vasicek process with $\\theta = 1.0, \\mu=10.0$ and $x_0$=1.0')\n",
    "plt.show()\n"
   ]
  },
  {
   "cell_type": "code",
   "execution_count": null,
   "metadata": {
    "tags": [
     "hide-input"
    ]
   },
   "outputs": [],
   "source": [
    "process = Vasicek(theta=1.0, mu=10.0, sigma=0.5, initial=1.0)\n",
    "fig, axs = plt.subplots(1, 3, figsize=(18, 6))\n",
    "t_values = ([0.1, 0.2,  0.3, 0.5], [1, 2, 3], [10,])\n",
    "for (ts, ax) in zip(t_values, axs):\n",
    "    for t in ts:\n",
    "        X_t = process.get_marginal(t=t)\n",
    "        x = np.linspace(X_t.ppf(0.001), X_t.ppf(0.995), 100)\n",
    "        ax.plot(x, X_t.pdf(x), '-', lw=1.5,\n",
    "                alpha=0.75, label=f'$t$={t:.2f}')\n",
    "        ax.legend()\n",
    "fig.suptitle(r'$X_t$ pdf from a Vasicek process with $\\theta = 1.0, \\mu=10.0, \\sigma=0.5$, and $x_0$=1.0')\n",
    "plt.show()\n"
   ]
  },
  {
   "cell_type": "markdown",
   "metadata": {},
   "source": [
    "### Sampling\n",
    "\n",
    "Now, let's see how to get a random sample from $X_t$ for any  $t>0$. \n",
    "\n",
    "The next cell shows how to get a sample of size 5 from $X_1$."
   ]
  },
  {
   "cell_type": "code",
   "execution_count": null,
   "metadata": {},
   "outputs": [],
   "source": [
    "from aleatory.processes import Vasicek\n",
    "\n",
    "process = Vasicek(theta=1.0, mu=10.0, sigma=0.5, initial=1.0)\n",
    "X_1= process.get_marginal(t=1.0)\n",
    "X_1.rvs(size=5)"
   ]
  },
  {
   "cell_type": "markdown",
   "metadata": {},
   "source": [
    "Similarly, we can get a sample from $X_{10}$"
   ]
  },
  {
   "cell_type": "code",
   "execution_count": null,
   "metadata": {},
   "outputs": [],
   "source": [
    "X_10 = process.get_marginal(t=10)\n",
    "X_10.rvs(size=5)"
   ]
  },
  {
   "cell_type": "markdown",
   "metadata": {},
   "source": [
    "## Simulation\n",
    "\n",
    "\n",
    "In order to simulate paths from a stochastic process, we need to set a discrete partition over an interval for the simulation to take place. \n",
    "\n",
    "For simplicity, we are going to consider an equidistant partition of size $n$ over $[0,T]$, i.e.:\n",
    "\\begin{equation*}\n",
    "t_i = \\frac{i}{n-1} T \\qquad  \\hbox{for } i = 0, \\cdots, n-1.\n",
    "\\end{equation*}\n",
    "Then, the goal is to simulate a path of the form $\\{ X_{t_i} , i=0,\\cdots, n-1\\}$. We will use Euler-Maruyama approximation."
   ]
  },
  {
   "cell_type": "markdown",
   "metadata": {},
   "source": [
    "### Simulating and Visualising Paths\n",
    "\n",
    "We can simulate several paths from a Vasicek process and visualise them we can use the method `plot` from the `aleatory` library. \n",
    "\n",
    "\n",
    "Let's simulate 10 paths over the interval $[0,1]$ using a partition of 100 points. \n",
    "\n",
    "\n",
    "\n",
    "`````{admonition} Tip\n",
    ":class: tip\n",
    "Remember that  the number of points in the partition is defined by the parameter $n$, while  the number of paths is determined by $N$.\n",
    "`````"
   ]
  },
  {
   "cell_type": "code",
   "execution_count": null,
   "metadata": {},
   "outputs": [],
   "source": [
    "from aleatory.processes import Vasicek\n",
    "\n",
    "process = Vasicek(theta=1.0, mu=10.0, sigma=0.5, initial=2.0)\n",
    "process.plot(n=100, N=10, title='10 paths of the Vasicek Process')\n",
    "plt.show()"
   ]
  },
  {
   "cell_type": "markdown",
   "metadata": {},
   "source": [
    "```{note}\n",
    "In all plots we are using a linear interpolation to draw the lines between the simulated points. \n",
    "```"
   ]
  },
  {
   "cell_type": "markdown",
   "metadata": {},
   "source": [
    "Similarly, we can define the process over the interval $[0, 5]$ and simulate 50 paths with a partition of size 100."
   ]
  },
  {
   "cell_type": "code",
   "execution_count": null,
   "metadata": {
    "tags": [
     "hide-input"
    ]
   },
   "outputs": [],
   "source": [
    "process = Vasicek(theta=1.0, mu=10.0, sigma=0.5, initial=1.0, T=5.0)\n",
    "process.plot(n=200, N=100, title='100 paths of the Vasicek Process')\n",
    "plt.show()"
   ]
  },
  {
   "cell_type": "markdown",
   "metadata": {},
   "source": [
    "## Long Time Behaviour \n",
    "\n",
    "### Expectation and Variance\n",
    "\n",
    "Note that when $t$ goes to infinity, we have\n",
    "\n",
    "\\begin{equation*}\n",
    "\\lim_{t\\rightarrow\\infty}  \\mathbf{E} [X_t ]  = \\lim_{t\\rightarrow\\infty} \\left[ x_0e^{-\\theta t} +  \\mu(1- e^{-\\theta t}) \\right] = \\mu.\n",
    "\\end{equation*}\n",
    "and\n",
    "\\begin{equation*}\n",
    "\\lim_{t\\rightarrow\\infty}\\mathbf{Var} [X_t ]  = \\lim_{t\\rightarrow\\infty}  \\frac{\\sigma^2}{ 2\\theta} (1- e^{-2\\theta t}) =  \\frac{\\sigma^2}{ 2\\theta}.\n",
    "\\end{equation*}\n",
    "\n",
    "So, the marginal distribution $X_t$ given an initial point $x_0$ converges to \n",
    "\\begin{equation*}\n",
    "\\mathcal{N} \\left(\\mu  ,  \\frac{\\sigma}{ \\sqrt{2\\theta} }\\right),\n",
    "\\end{equation*}\n",
    "as $t$ goes to infinity."
   ]
  },
  {
   "cell_type": "code",
   "execution_count": null,
   "metadata": {
    "tags": [
     "hide-input"
    ]
   },
   "outputs": [],
   "source": [
    "def draw_mean_variance(x0, theta, mu, sigma, T=100):\n",
    "\n",
    "    process = Vasicek(theta=theta, mu=mu, sigma=sigma, initial=x0, T=T)\n",
    "    ts = np.linspace(0, T, T)\n",
    "    means = process.marginal_expectation(ts)\n",
    "    variances = process.marginal_variance(ts)\n",
    "    fig, (ax1, ax2,) = plt.subplots(1, 2, figsize=(9, 4))\n",
    "    \n",
    "    ax1.plot(ts, means, lw=1.5, color='black', label='$E[X_t]$')\n",
    "    ax1.set_xlabel('t')\n",
    "    ax1.legend()\n",
    "    ax2.plot(ts,  variances, lw=1.5, color='red', label='$Var[X_t]$')\n",
    "    ax2.set_xlabel('t')\n",
    "    ax2.legend()\n",
    "    fig.suptitle(\n",
    "        'Expectation and Variance of $X_t$ with ' f'$x_0$={x0:.2f}, $\\\\theta$={theta:.2f}, $\\mu$={mu:.2f}, $\\sigma$={sigma:.2f}', size=12)\n",
    "    plt.show()"
   ]
  },
  {
   "cell_type": "code",
   "execution_count": null,
   "metadata": {},
   "outputs": [],
   "source": [
    "draw_mean_variance(theta=1.0, mu=10.0, sigma=0.5, x0=1.0, T=10)"
   ]
  },
  {
   "cell_type": "code",
   "execution_count": null,
   "metadata": {},
   "outputs": [],
   "source": [
    "draw_mean_variance(theta=0.1, mu=10.0, sigma=0.5, x0=-2.0, T=10)"
   ]
  },
  {
   "cell_type": "markdown",
   "metadata": {},
   "source": [
    "### Marginal\n",
    "\n",
    "The marginal distribution $X_t$ given an initial point $x_0$ converges to \n",
    "\\begin{equation*}\n",
    "\\mathcal{N} \\left(\\mu  ,  \\frac{\\sigma}{ \\sqrt{2\\theta} }\\right),\n",
    "\\end{equation*}\n",
    "as $t$ goes to infinity.\n"
   ]
  },
  {
   "cell_type": "code",
   "execution_count": null,
   "metadata": {},
   "outputs": [],
   "source": [
    "process = Vasicek(theta=1.0, mu=10.0, sigma=2.0, initial=1.0, T=1.0)\n",
    "process.draw(n=100, N=100, title='Vasicek Process before reaching convergence to the asymptotic distribution')\n",
    "plt.show()"
   ]
  },
  {
   "cell_type": "code",
   "execution_count": null,
   "metadata": {},
   "outputs": [],
   "source": [
    "process = Vasicek(theta=1.0, mu=10.0, sigma=2.0, initial=1.0, T=10.0)\n",
    "process.draw(n=100, N=100, title='Vasicek Process reaching convergence to the asymptotic distribution')\n",
    "plt.show()"
   ]
  },
  {
   "cell_type": "markdown",
   "metadata": {},
   "source": [
    "#### The parameter $\\theta$ determines the Speed of Convergence"
   ]
  },
  {
   "cell_type": "code",
   "execution_count": null,
   "metadata": {},
   "outputs": [],
   "source": [
    "process = Vasicek(theta=5.0, mu=10.0, sigma=2.0, initial=1.0, T=1.0)\n",
    "process.draw(n=100, N=100, title='Vasicek Process quickly reaching convergence to the asymptotic distribution')\n",
    "plt.show()"
   ]
  },
  {
   "cell_type": "code",
   "execution_count": null,
   "metadata": {},
   "outputs": [],
   "source": [
    "process = Vasicek(theta=0.1, mu=10.0, sigma=2.0, initial=1.0, T=50.0)\n",
    "process.draw(n=100, N=100, title='Vasicek Process slowly reaching convergence to the asymptotic distribution')\n",
    "plt.show()"
   ]
  },
  {
   "cell_type": "markdown",
   "metadata": {},
   "source": [
    "#### The parameter $\\sigma$ determines the volatility in the simulation"
   ]
  },
  {
   "cell_type": "code",
   "execution_count": null,
   "metadata": {},
   "outputs": [],
   "source": [
    "process = Vasicek(theta=1.0, mu=10.0, sigma=0.5, initial=1.0, T=1.0)\n",
    "process.draw(n=100, N=100, title='Vasicek Process with low volatility')\n",
    "plt.show()"
   ]
  },
  {
   "cell_type": "code",
   "execution_count": null,
   "metadata": {},
   "outputs": [],
   "source": [
    "process = Vasicek(theta=1.0, mu=10.0, sigma=5.0, initial=1.0, T=1.0)\n",
    "process.draw(n=100, N=100, title='Vasicek Process with high volatility')\n",
    "plt.show()"
   ]
  },
  {
   "attachments": {},
   "cell_type": "markdown",
   "metadata": {},
   "source": [
    "## Visualisation\n",
    "\n",
    "To finish this note, let's take a final look at a some simulations from the Vasicek process."
   ]
  },
  {
   "cell_type": "code",
   "execution_count": null,
   "metadata": {},
   "outputs": [],
   "source": [
    "from aleatory.processes import Vasicek\n",
    "process = Vasicek(theta=0.5, mu=10.0, sigma=2.0, initial=-1.0, T=20.0)\n",
    "process.draw(n=200, N=200, envelope=True)\n",
    "plt.show()"
   ]
  },
  {
   "cell_type": "code",
   "execution_count": null,
   "metadata": {},
   "outputs": [],
   "source": [
    "from aleatory.processes import Vasicek\n",
    "process = Vasicek(theta=0.5, mu=-10.0, sigma=2.0, initial=1.0, T=20.0)\n",
    "process.draw(n=200, N=200, envelope=True, colormap=\"cool\", title='Vasicek Process')\n",
    "plt.show()"
   ]
  },
  {
   "cell_type": "code",
   "execution_count": null,
   "metadata": {},
   "outputs": [],
   "source": [
    "from aleatory.processes import Vasicek\n",
    "import matplotlib.pyplot as plt\n",
    "import numpy as np\n",
    "\n",
    "process = Vasicek(theta=1.0, mu=-10.0, sigma=np.sqrt(2), initial=0.0, T=12.0)\n",
    "path = process.simulate(n=1000, N=1)\n",
    "ts = process.times\n",
    "exp = process.marginal_expectation(ts)\n",
    "plt.plot(ts, path[0], label= f'$x_0$ = 0, $\\mu$ = -10')\n",
    "plt.plot(ts, exp, color='grey',linewidth=2)\n",
    "\n",
    "for x0 in [-10.0, 0.0, 10.0]:\n",
    "    process = Vasicek(theta=1.0, mu=0.0, sigma=np.sqrt(2), initial=x0, T=12.0)\n",
    "    path = process.simulate(n=1000, N=1)\n",
    "    plt.plot(ts, path[0], label= f'$x_0$ = {x0:.0f}, $\\mu$ = 0')\n",
    "    exp = process.marginal_expectation(ts)\n",
    "    plt.plot(ts, exp, color='grey', linewidth=2)\n",
    "plt.plot(ts, exp, color='grey', label=f'$E[X_t]$')\n",
    "plt.legend()\n",
    "plt.title('Four Paths from the Vasicek Model\\n $dX_t = \\\\theta(\\mu - X_t) dt + \\sigma dW_t$\\n with $\\\\theta = 1, \\sigma = \\sqrt{2}$')\n",
    "plt.show()"
   ]
  },
  {
   "cell_type": "markdown",
   "metadata": {},
   "source": [
    "## References and Further Reading\n",
    "\n"
   ]
  },
  {
   "attachments": {},
   "cell_type": "markdown",
   "metadata": {},
   "source": [
    "- Damiano Brigo, Fabio Mercurio (2001). Interest Rate Models – Theory and Practice with Smile, Inflation and Credit\n",
    "- Vasicek, O. (1977). \"An equilibrium characterization of the term structure\". Journal of Financial Economics."
   ]
  }
 ],
 "metadata": {
  "kernelspec": {
   "display_name": "local-venv",
   "language": "python",
   "name": "local-venv"
  },
  "language_info": {
   "codemirror_mode": {
    "name": "ipython",
    "version": 3
   },
   "file_extension": ".py",
   "mimetype": "text/x-python",
   "name": "python",
   "nbconvert_exporter": "python",
   "pygments_lexer": "ipython3",
   "version": "3.8.0"
  },
  "toc": {
   "base_numbering": 1,
   "nav_menu": {},
   "number_sections": true,
   "sideBar": true,
   "skip_h1_title": true,
   "title_cell": "Table of Contents",
   "title_sidebar": "Contents",
   "toc_cell": true,
   "toc_position": {
    "height": "calc(100% - 180px)",
    "left": "10px",
    "top": "150px",
    "width": "244.59375px"
   },
   "toc_section_display": true,
   "toc_window_display": true
  }
 },
 "nbformat": 4,
 "nbformat_minor": 4
}
