{
 "cells": [
  {
   "attachments": {},
   "cell_type": "markdown",
   "metadata": {
    "jp-MarkdownHeadingCollapsed": true,
    "tags": []
   },
   "source": [
    "#   Bessel Processes\n",
    "\n",
    "The purpose of this notebook is to provide an illustration of the [Bessel Processes](https://en.wikipedia.org/wiki/Bessel_process) and some of its main properties. "
   ]
  },
  {
   "attachments": {},
   "cell_type": "markdown",
   "metadata": {},
   "source": [
    "## Introduction\n",
    "\n",
    "Let $W_t = (W^1_t, \\cdots, W^n_t)$ be a n-dimensional Browanian Motion for some $n\\in\\mathbb{N}$. The Bessel process of dimension $n$ is defined as follows \n",
    "\n",
    "\\begin{equation}\n",
    "X_t = \\|W_t\\|,\n",
    "\\end{equation}\n",
    "where $\\| \\ \\   \\| $ denotes the Euclidean norm in $\\mathbb{R}^n$, or equivalently\n",
    "\\begin{equation}\n",
    "X_t^2 = \\sum_{i=1}^n (W^i_t)^2.\n",
    "\\end{equation}\n",
    "\n",
    "Ito's formula implies\n",
    "\n",
    "\\begin{equation}\n",
    "dX_t^2 = n dt + \\sum_{i=1}^n 2(W^i_t)dW^i_t .\n",
    "\\end{equation}"
   ]
  },
  {
   "cell_type": "markdown",
   "metadata": {},
   "source": [
    "Next, we observe that $\\mathbb{P}(X_t = 0) =0$ for any $t>0$, and define the process \n",
    "\\begin{equation}\n",
    "dB_t =  \\dfrac{1}{X_t} \\sum_{i=1}^nW_t^i dW_t^i, \\qquad t>0.\n",
    "\\end{equation}\n",
    "It is not difficult to see that the process $B$ is a real-valued Brownian motion. \n",
    "\n",
    "Hence, we have \n",
    "\\begin{equation}\n",
    "dX_t^2 = n dt + 2 X_t dB_t,\n",
    "\\end{equation}\n",
    "which is equivalent to \n",
    "\\begin{equation}\n",
    "dY_t = n dt + 2 \\sqrt{Y_t} dB_t,\n",
    "\\end{equation}\n",
    "where $Y_t = X^2_t$."
   ]
  },
  {
   "cell_type": "markdown",
   "metadata": {},
   "source": [
    "For $n>1$, Ito's formula implies\n",
    "\\begin{equation}\n",
    "dX_t= dB_t + \\dfrac{(n-1)}{2} \\dfrac{dt}{X_t}\n",
    "\\end{equation}\n",
    "\n",
    "The case $n=1$ can be derived from Tanaka's formula."
   ]
  },
  {
   "cell_type": "markdown",
   "metadata": {},
   "source": [
    "## Definition\n",
    "\n",
    "For every $\\alpha\\geq 0$ and $x\\geq 0$,  a squared Bessel process with dimension $\\alpha$, starting at $y$ is defined as the unique stron solution to the SDE\n",
    "\n",
    "\\begin{align}\n",
    "dY_t &= \\alpha dt + 2 \\sqrt{ Y_t } dB_t,  \\qquad Y_t\\geq 0 \\\\\n",
    "Y_0 & = y,\n",
    "\\end{align}\n",
    "\n",
    "and is denoted by $BESQ^{\\delta}_y$. \n",
    "\n",
    "Moreover, the process $X_t = \\sqrt{Y_t}$, is called a Bessel process of dimension $\\alpha$, starting at $x = \\sqrt{y}$,  and is denoted by $BES^{\\delta}_x$."
   ]
  },
  {
   "cell_type": "markdown",
   "metadata": {},
   "source": [
    "## Existence and Uniqueness \n"
   ]
  },
  {
   "cell_type": "markdown",
   "metadata": {},
   "source": []
  }
 ],
 "metadata": {
  "kernelspec": {
   "display_name": ".venv",
   "language": "python",
   "name": "python3"
  },
  "language_info": {
   "codemirror_mode": {
    "name": "ipython",
    "version": 3
   },
   "file_extension": ".py",
   "mimetype": "text/x-python",
   "name": "python",
   "nbconvert_exporter": "python",
   "pygments_lexer": "ipython3",
   "version": "3.9.10"
  },
  "toc": {
   "base_numbering": 1,
   "nav_menu": {},
   "number_sections": true,
   "sideBar": true,
   "skip_h1_title": true,
   "title_cell": "Table of Contents",
   "title_sidebar": "Contents",
   "toc_cell": true,
   "toc_position": {
    "height": "calc(100% - 180px)",
    "left": "10px",
    "top": "150px",
    "width": "244.59375px"
   },
   "toc_section_display": true,
   "toc_window_display": true
  }
 },
 "nbformat": 4,
 "nbformat_minor": 4
}
